{
 "cells": [
  {
   "cell_type": "code",
   "execution_count": 40,
   "id": "f8fdb1ed",
   "metadata": {},
   "outputs": [],
   "source": [
    "import pandas as pd\n",
    "import seaborn as sns\n",
    "import matplotlib.pyplot as plt"
   ]
  },
  {
   "cell_type": "code",
   "execution_count": 2,
   "id": "020d6f68",
   "metadata": {},
   "outputs": [
    {
     "name": "stdout",
     "output_type": "stream",
     "text": [
      "   eta1  eta2  eta3  eta4    u0      u1        u2        u3        u4\n",
      "0     1  0.19     1     1 -0.99  0.9801  0.980019 -0.970219  0.960438\n",
      "1     1  0.19     1     1 -0.95  0.9025  0.900495 -0.855470  0.810891\n",
      "2     1  0.19     1     1 -0.90  0.8100  0.802067 -0.721860  0.643311\n",
      "3     1  0.19     1     1 -0.85  0.7225  0.704861 -0.599132  0.496829\n",
      "4     1  0.19     1     1 -0.80  0.6400  0.609049 -0.487240  0.370941\n"
     ]
    }
   ],
   "source": [
    "dataset = pd.read_csv('eta2Dataset.txt', sep = '\\t')\n",
    "print (dataset.head())"
   ]
  },
  {
   "cell_type": "code",
   "execution_count": 3,
   "id": "42c7ccd6",
   "metadata": {},
   "outputs": [],
   "source": [
    "# eta1, eta2, eta3, and eta4 are the dimensionless number corresponding to the first neighbor, second neighbor, third neighbor,\n",
    "# fourth neighbor cluster. \n",
    "\n",
    "# u0 is the composition.\n",
    "\n",
    "# u1, u2, u3, and u4 are the correlation functions in the cluster variation method."
   ]
  },
  {
   "cell_type": "code",
   "execution_count": 4,
   "id": "e9d2cbc1",
   "metadata": {
    "scrolled": true
   },
   "outputs": [
    {
     "data": {
      "text/plain": [
       " 0.00    16\n",
       "-0.70    16\n",
       "-0.20    16\n",
       " 0.90    16\n",
       " 0.85    16\n",
       "-0.75    16\n",
       "-0.35    16\n",
       "-0.50    16\n",
       "-0.80    16\n",
       " 0.20    16\n",
       " 0.45    16\n",
       " 0.35    16\n",
       " 0.25    16\n",
       " 0.60    16\n",
       " 0.70    16\n",
       "-0.99    16\n",
       "-0.60    16\n",
       " 0.75    16\n",
       " 0.30    16\n",
       "-0.05    16\n",
       " 0.15    16\n",
       " 0.10    16\n",
       " 0.95    16\n",
       "-0.10    16\n",
       "-0.85    16\n",
       " 0.80    16\n",
       " 0.40    16\n",
       "-0.65    16\n",
       "-0.40    16\n",
       "-0.90    16\n",
       " 0.65    16\n",
       "-0.15    16\n",
       "-0.30    16\n",
       "-0.25    16\n",
       " 0.05    16\n",
       "-0.55    16\n",
       " 0.55    16\n",
       "-0.45    16\n",
       " 0.50    16\n",
       "-0.95    16\n",
       "Name: u0, dtype: int64"
      ]
     },
     "execution_count": 4,
     "metadata": {},
     "output_type": "execute_result"
    }
   ],
   "source": [
    "# Counting the number of different compositions in the dataset\n",
    "\n",
    "dataset['u0'].value_counts()"
   ]
  },
  {
   "cell_type": "code",
   "execution_count": 5,
   "id": "83a1d899",
   "metadata": {},
   "outputs": [],
   "source": [
    "# Making input parameter by considering eta1, eta2, eta3, and eta4.\n",
    "# We keep eta1, eta3, and eta4 constant and just vary eta2 values to keep this problem relatively simple.\n",
    "# Further to make it more simple we take only composition (u0) as our target variable.\n",
    "# This makes the problem a case of MANY-TO-ONE modeling.\n",
    "\n",
    "# The objective of this exercise is to implement a regression model to predict composition values at different eta values."
   ]
  },
  {
   "cell_type": "code",
   "execution_count": 30,
   "id": "7e7379b8",
   "metadata": {},
   "outputs": [
    {
     "name": "stdout",
     "output_type": "stream",
     "text": [
      "(640, 4)\n",
      "(640, 1)\n"
     ]
    }
   ],
   "source": [
    "xvalues = pd.DataFrame([dataset.eta1, dataset.eta2, dataset.eta3, dataset.eta4]).T\n",
    "yvalues = pd.DataFrame([dataset.u0]).T\n",
    "\n",
    "print (xvalues.shape)\n",
    "print (yvalues.shape)"
   ]
  },
  {
   "cell_type": "code",
   "execution_count": 31,
   "id": "fd7496f2",
   "metadata": {
    "scrolled": false
   },
   "outputs": [
    {
     "name": "stderr",
     "output_type": "stream",
     "text": [
      "C:\\Users\\UAL-Laptop\\anaconda3\\lib\\site-packages\\seaborn\\distributions.py:306: UserWarning: Dataset has 0 variance; skipping density estimate.\n",
      "  warnings.warn(msg, UserWarning)\n",
      "C:\\Users\\UAL-Laptop\\anaconda3\\lib\\site-packages\\seaborn\\distributions.py:306: UserWarning: Dataset has 0 variance; skipping density estimate.\n",
      "  warnings.warn(msg, UserWarning)\n"
     ]
    },
    {
     "data": {
      "text/plain": [
       "<seaborn.axisgrid.PairGrid at 0x2676275d280>"
      ]
     },
     "execution_count": 31,
     "metadata": {},
     "output_type": "execute_result"
    },
    {
     "data": {
      "image/png": "[encoded data removed]",
      "text/plain": [
       "<Figure size 592x540 with 12 Axes>"
      ]
     },
     "metadata": {
      "needs_background": "light"
     },
     "output_type": "display_data"
    }
   ],
   "source": [
    "# This is the input data visualization part.\n",
    "# Here we can observe that eta2 is highly correlated while eta1, eta2, and eta3 are relatively simple.\n",
    "\n",
    "sns.pairplot(xvalues, hue = 'eta1')"
   ]
  },
  {
   "cell_type": "code",
   "execution_count": 32,
   "id": "3f34e382",
   "metadata": {},
   "outputs": [
    {
     "name": "stdout",
     "output_type": "stream",
     "text": [
      "(512, 4)\n",
      "(512, 1)\n",
      "(128, 4)\n",
      "(128, 1)\n"
     ]
    }
   ],
   "source": [
    "# Separating our input parameters and target variable into training and testing datasets\n",
    "\n",
    "from sklearn.model_selection import train_test_split\n",
    "xtrain, xtest, ytrain, ytest = train_test_split(xvalues, yvalues, test_size = 0.20)\n",
    "print (xtrain.shape)\n",
    "print (ytrain.shape)\n",
    "print (xtest.shape)\n",
    "print (ytest.shape)"
   ]
  },
  {
   "cell_type": "code",
   "execution_count": 33,
   "id": "3ac24d11",
   "metadata": {},
   "outputs": [],
   "source": [
    "# Applying a simple linear regression model on our training dataset\n",
    "\n",
    "from sklearn import linear_model\n",
    "from sklearn import metrics\n",
    "\n",
    "lin = linear_model.LinearRegression()\n",
    "\n",
    "lin.fit(xtrain, ytrain)\n",
    "\n",
    "trainingPredictions = lin.predict(xtrain)"
   ]
  },
  {
   "cell_type": "code",
   "execution_count": 34,
   "id": "4a3fa68d",
   "metadata": {},
   "outputs": [
    {
     "name": "stdout",
     "output_type": "stream",
     "text": [
      "Linear model efficiency on training dataset\n",
      "0.4914671538969718\n"
     ]
    }
   ],
   "source": [
    "# Predicting the model efficiency on training dataset\n",
    "\n",
    "print ('Linear model efficiency on training dataset')\n",
    "print (metrics.mean_absolute_error(ytrain, trainingPredictions))"
   ]
  },
  {
   "cell_type": "code",
   "execution_count": 35,
   "id": "953cedc2",
   "metadata": {},
   "outputs": [
    {
     "name": "stdout",
     "output_type": "stream",
     "text": [
      "Linear model efficiency on testing dataset\n",
      "0.5329102800306411\n"
     ]
    }
   ],
   "source": [
    "# Predicting the model efficiency on testing dataset\n",
    "\n",
    "testingPredictions = lin.predict(xtest)\n",
    "\n",
    "print ('Linear model efficiency on testing dataset')\n",
    "print (metrics.mean_absolute_error(ytest, testingPredictions))"
   ]
  },
  {
   "cell_type": "code",
   "execution_count": 42,
   "id": "d58534bd",
   "metadata": {},
   "outputs": [
    {
     "name": "stdout",
     "output_type": "stream",
     "text": [
      "0.47273500976562505\n"
     ]
    }
   ],
   "source": [
    "# Using K-nearest neighbor on our training dataset\n",
    "\n",
    "import math\n",
    "from sklearn.metrics import mean_squared_error\n",
    "from sklearn.neighbors import KNeighborsRegressor\n",
    "\n",
    "neigh = KNeighborsRegressor(n_neighbors = 2)\n",
    "neigh.fit(xtrain, ytrain)\n",
    "trainingPredictions = neigh.predict(xtrain)\n",
    "mse = mean_squared_error(ytrain, trainingPredictions)\n",
    "\n",
    "print (mse)"
   ]
  },
  {
   "cell_type": "code",
   "execution_count": 43,
   "id": "58193112",
   "metadata": {},
   "outputs": [
    {
     "data": {
      "text/plain": [
       "<matplotlib.legend.Legend at 0x26763160f70>"
      ]
     },
     "execution_count": 43,
     "metadata": {},
     "output_type": "execute_result"
    },
    {
     "data": {
      "image/png": "[encoded data removed]",
      "text/plain": [
       "<Figure size 432x288 with 1 Axes>"
      ]
     },
     "metadata": {
      "needs_background": "light"
     },
     "output_type": "display_data"
    }
   ],
   "source": [
    "# Plotting input and predicted values by the K-nearest neighbor model\n",
    "\n",
    "plt.scatter(xtrain['eta2'], ytrain, s = 5, color = 'blue', label = 'Original data')\n",
    "plt.scatter(xtrain['eta2'], trainingPredictions, lw = 1.5, color = 'red', label = 'Predicted data')\n",
    "plt.legend()"
   ]
  },
  {
   "cell_type": "code",
   "execution_count": 45,
   "id": "62045b21",
   "metadata": {},
   "outputs": [
    {
     "name": "stdout",
     "output_type": "stream",
     "text": [
      "0.40709882812500003\n"
     ]
    }
   ],
   "source": [
    "# Using K-nearest neighbor on our testing dataset\n",
    "\n",
    "neigh = KNeighborsRegressor(n_neighbors = 2)\n",
    "neigh.fit(xtest, ytest)\n",
    "testingPredictions = neigh.predict(xtest)\n",
    "mse = mean_squared_error(ytest, testingPredictions)\n",
    "print (mse)"
   ]
  },
  {
   "cell_type": "code",
   "execution_count": 46,
   "id": "748b707b",
   "metadata": {},
   "outputs": [
    {
     "data": {
      "text/plain": [
       "<matplotlib.legend.Legend at 0x267631c27c0>"
      ]
     },
     "execution_count": 46,
     "metadata": {},
     "output_type": "execute_result"
    },
    {
     "data": {
      "image/png": "[encoded data removed]",
      "text/plain": [
       "<Figure size 432x288 with 1 Axes>"
      ]
     },
     "metadata": {
      "needs_background": "light"
     },
     "output_type": "display_data"
    }
   ],
   "source": [
    "# Plotting input and predicted values by the K-nearest neighbor model\n",
    "\n",
    "plt.scatter(xtest['eta2'], ytest, s = 5, color = 'blue', label = 'Original data')\n",
    "plt.scatter(xtest['eta2'], testingPredictions, lw = 1.5, color = 'red', label = 'Predicted data')\n",
    "plt.legend()"
   ]
  },
  {
   "cell_type": "code",
   "execution_count": null,
   "id": "19df196c",
   "metadata": {},
   "outputs": [],
   "source": []
  }
 ],
 "metadata": {
  "kernelspec": {
   "display_name": "Python 3",
   "language": "python",
   "name": "python3"
  },
  "language_info": {
   "codemirror_mode": {
    "name": "ipython",
    "version": 3
   },
   "file_extension": ".py",
   "mimetype": "text/x-python",
   "name": "python",
   "nbconvert_exporter": "python",
   "pygments_lexer": "ipython3",
   "version": "3.8.8"
  }
 },
 "nbformat": 4,
 "nbformat_minor": 5
}
